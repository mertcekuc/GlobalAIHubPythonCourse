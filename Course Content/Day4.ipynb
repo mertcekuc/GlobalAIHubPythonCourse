{
 "cells": [
  {
   "cell_type": "markdown",
   "metadata": {
    "colab_type": "text",
    "id": "6vddxASQcwOx"
   },
   "source": [
    "# Functions\n",
    "\n",
    "Functions are blocks of code that can be used over and over again to perform a specific task. \n",
    "\n",
    "Functions can be defined to do a task, or produce an output\n",
    "\n",
    "We have already usd some of Python's built in functions like print(), len(), sorted() etc. There are many more.\n",
    "\n",
    "We can use these in our own code by providing access to functions defined in libraries, modules and packages. Or, we can create our own functions (user-defined).\n",
    "\n",
    "They also mean you can implement something complex and re-use it again.\n",
    "\n",
    "\n",
    "*****\n",
    "\n",
    "def \"function_name\"(parameter1,parameter2,..):\n",
    "\n",
    "\n",
    "> \"Do something\"\n",
    "\n",
    "  > return \"return something\"  (depends on functionality) \n",
    "\n",
    "\n"
   ]
  },
  {
   "cell_type": "markdown",
   "metadata": {},
   "source": [
    "### Define a function to do a task"
   ]
  },
  {
   "cell_type": "code",
   "execution_count": 1,
   "metadata": {
    "colab": {},
    "colab_type": "code",
    "id": "xmv4r_jCboXC"
   },
   "outputs": [],
   "source": [
    "def hello():\n",
    "  print(\"Hello Everyone!!\")"
   ]
  },
  {
   "cell_type": "markdown",
   "metadata": {},
   "source": [
    "### Call the function"
   ]
  },
  {
   "cell_type": "code",
   "execution_count": 2,
   "metadata": {
    "colab": {},
    "colab_type": "code",
    "id": "9WyymUQqgSBQ"
   },
   "outputs": [
    {
     "name": "stdout",
     "output_type": "stream",
     "text": [
      "Hello Everyone!!\n"
     ]
    }
   ],
   "source": [
    "hello()"
   ]
  },
  {
   "cell_type": "markdown",
   "metadata": {},
   "source": [
    "### Define a function that expects an input"
   ]
  },
  {
   "cell_type": "code",
   "execution_count": 3,
   "metadata": {
    "colab": {},
    "colab_type": "code",
    "id": "0mNT-X0DoP7y"
   },
   "outputs": [],
   "source": [
    "def hello(name):\n",
    "  print(\"Hello \" + name)"
   ]
  },
  {
   "cell_type": "code",
   "execution_count": 7,
   "metadata": {
    "colab": {},
    "colab_type": "code",
    "id": "DxZKzFIuoW08"
   },
   "outputs": [
    {
     "name": "stdout",
     "output_type": "stream",
     "text": [
      "Hello Mary\n"
     ]
    }
   ],
   "source": [
    "hello(\"Mary\")"
   ]
  },
  {
   "cell_type": "markdown",
   "metadata": {},
   "source": [
    "### Define a function that returns something"
   ]
  },
  {
   "cell_type": "code",
   "execution_count": 15,
   "metadata": {},
   "outputs": [],
   "source": [
    "def plus_one(a):\n",
    "     return a+1"
   ]
  },
  {
   "cell_type": "code",
   "execution_count": 16,
   "metadata": {},
   "outputs": [
    {
     "data": {
      "text/plain": [
       "6"
      ]
     },
     "execution_count": 16,
     "metadata": {},
     "output_type": "execute_result"
    }
   ],
   "source": [
    "plus_one(5)"
   ]
  },
  {
   "cell_type": "code",
   "execution_count": 17,
   "metadata": {},
   "outputs": [
    {
     "name": "stdout",
     "output_type": "stream",
     "text": [
      "X is  9\n"
     ]
    }
   ],
   "source": [
    "x = plus_one(8)\n",
    "\n",
    "print(\"X is \", x)"
   ]
  },
  {
   "cell_type": "markdown",
   "metadata": {},
   "source": [
    "### You can call a function from in a function"
   ]
  },
  {
   "cell_type": "code",
   "execution_count": 18,
   "metadata": {},
   "outputs": [],
   "source": [
    "def func_in_func(name1):\n",
    "    hello(name1)"
   ]
  },
  {
   "cell_type": "code",
   "execution_count": 19,
   "metadata": {},
   "outputs": [
    {
     "name": "stdout",
     "output_type": "stream",
     "text": [
      "Hello Lucy\n"
     ]
    }
   ],
   "source": [
    "func_in_func(\"Lucy\")"
   ]
  },
  {
   "cell_type": "code",
   "execution_count": 20,
   "metadata": {
    "colab": {
     "base_uri": "https://localhost:8080/",
     "height": 70
    },
    "colab_type": "code",
    "id": "3AoI1i0igZC7",
    "outputId": "96d5c07a-fb7e-4965-b107-d7e3419b4e3d"
   },
   "outputs": [
    {
     "name": "stdout",
     "output_type": "stream",
     "text": [
      "Hello World!!\n",
      "Google\n",
      "Hello World!!\n",
      "Hello World!!\n",
      "Hello World!!\n",
      "Hello World!!\n"
     ]
    }
   ],
   "source": [
    "def func1():\n",
    "  print(\"Hello World!!\")\n",
    "\n",
    "\n",
    "func1()\n",
    "print(\"Google\")\n",
    "func1()\n",
    "func1()\n",
    "func1()\n",
    "func1()"
   ]
  },
  {
   "cell_type": "markdown",
   "metadata": {},
   "source": [
    "### A function with no return statement will return None"
   ]
  },
  {
   "cell_type": "code",
   "execution_count": 28,
   "metadata": {
    "colab": {},
    "colab_type": "code",
    "id": "iiSPTWt3hJHo"
   },
   "outputs": [],
   "source": [
    "def summ(a,b):\n",
    "  summ = a + b\n",
    "  print(summ)"
   ]
  },
  {
   "cell_type": "code",
   "execution_count": 29,
   "metadata": {
    "colab": {},
    "colab_type": "code",
    "id": "WNgM1TR4haRG"
   },
   "outputs": [
    {
     "name": "stdout",
     "output_type": "stream",
     "text": [
      "13.5\n"
     ]
    }
   ],
   "source": [
    "summ(6.0,7.5)"
   ]
  },
  {
   "cell_type": "code",
   "execution_count": 30,
   "metadata": {
    "colab": {
     "base_uri": "https://localhost:8080/",
     "height": 52
    },
    "colab_type": "code",
    "id": "MfnQx9FFhd5H",
    "outputId": "ef0339f9-f195-40fb-cad8-a3c231726c26"
   },
   "outputs": [
    {
     "name": "stdout",
     "output_type": "stream",
     "text": [
      "17\n",
      "T is  None\n"
     ]
    }
   ],
   "source": [
    "t = summ(8,9)\n",
    "print(\"T is \", t)"
   ]
  },
  {
   "cell_type": "code",
   "execution_count": 31,
   "metadata": {
    "colab": {},
    "colab_type": "code",
    "id": "NiymGvuihkZ2"
   },
   "outputs": [],
   "source": [
    "def func(x,y):\n",
    "  summ = x + y\n",
    "  multip = x * y\n",
    "  return (summ,multip)"
   ]
  },
  {
   "cell_type": "code",
   "execution_count": 34,
   "metadata": {
    "colab": {
     "base_uri": "https://localhost:8080/",
     "height": 35
    },
    "colab_type": "code",
    "id": "SbtW4TLdh7Pp",
    "outputId": "b2dd6bb7-6769-4d82-96ee-d622de955917"
   },
   "outputs": [
    {
     "name": "stdout",
     "output_type": "stream",
     "text": [
      "68 1035\n"
     ]
    }
   ],
   "source": [
    "s, m = func(23,45)\n",
    "\n",
    "print(s, m)"
   ]
  },
  {
   "cell_type": "code",
   "execution_count": 35,
   "metadata": {},
   "outputs": [
    {
     "name": "stdout",
     "output_type": "stream",
     "text": [
      "(68, 1035)\n"
     ]
    }
   ],
   "source": [
    "print(func(23,45))"
   ]
  },
  {
   "cell_type": "code",
   "execution_count": 37,
   "metadata": {
    "colab": {},
    "colab_type": "code",
    "id": "Nca_Rpf9iC-x"
   },
   "outputs": [
    {
     "name": "stdout",
     "output_type": "stream",
     "text": [
      "Sum of the values: 68, Multiplication of the values: 1035\n"
     ]
    }
   ],
   "source": [
    "print(\"Sum of the values: \" + str(t) + \", Multiplication of the values: \" + str(c))"
   ]
  },
  {
   "cell_type": "code",
   "execution_count": 38,
   "metadata": {
    "colab": {},
    "colab_type": "code",
    "id": "5IS0ARTJiPY1"
   },
   "outputs": [],
   "source": [
    "#Let's write a function that it will square the entered number, but will be terminated when you enter the number 5 and give us an error message.\n",
    "\n",
    "\n",
    "def sqr(x):\n",
    "  if x == 5:\n",
    "    return (\"Terminated because you entered 5\")\n",
    "\n",
    "  result = x**2\n",
    "  return result\n"
   ]
  },
  {
   "cell_type": "code",
   "execution_count": 39,
   "metadata": {
    "colab": {
     "base_uri": "https://localhost:8080/",
     "height": 35
    },
    "colab_type": "code",
    "id": "w0Am5qkekKNH",
    "outputId": "3a1be730-2c76-47b4-a44f-87f746392359"
   },
   "outputs": [
    {
     "data": {
      "text/plain": [
       "100"
      ]
     },
     "execution_count": 39,
     "metadata": {},
     "output_type": "execute_result"
    }
   ],
   "source": [
    "sqr(10)"
   ]
  },
  {
   "cell_type": "code",
   "execution_count": 40,
   "metadata": {
    "colab": {},
    "colab_type": "code",
    "id": "-A1MrkLDkMju"
   },
   "outputs": [
    {
     "data": {
      "text/plain": [
       "'Terminated because you entered 5'"
      ]
     },
     "execution_count": 40,
     "metadata": {},
     "output_type": "execute_result"
    }
   ],
   "source": [
    "sqr(5)"
   ]
  },
  {
   "cell_type": "code",
   "execution_count": 41,
   "metadata": {
    "colab": {},
    "colab_type": "code",
    "id": "gsu2kbuJnKmx"
   },
   "outputs": [
    {
     "name": "stdout",
     "output_type": "stream",
     "text": [
      "Terminated because you entered 5\n"
     ]
    }
   ],
   "source": [
    "d = sqr(5)\n",
    "print(d)"
   ]
  },
  {
   "cell_type": "code",
   "execution_count": 42,
   "metadata": {
    "colab": {},
    "colab_type": "code",
    "id": "ewtG6xuRkQsy"
   },
   "outputs": [],
   "source": [
    "# Let's write a function that tells you whether the entered number is positive, negative or zero.\n",
    "\n",
    "def func(x):\n",
    "  if x > 0:\n",
    "    return (\"Positive\")\n",
    "  elif x < 0:\n",
    "    return (\"Negative\")\n",
    "  else:\n",
    "    return (\"Zero\")\n"
   ]
  },
  {
   "cell_type": "code",
   "execution_count": 43,
   "metadata": {
    "colab": {},
    "colab_type": "code",
    "id": "UQ3T_8UTlJ8u"
   },
   "outputs": [
    {
     "name": "stdout",
     "output_type": "stream",
     "text": [
      "Negative\n",
      "Positive\n",
      "Positive\n",
      "Zero\n",
      "Negative\n",
      "Negative\n"
     ]
    }
   ],
   "source": [
    "for i in [-2,5,6,0,-4,-7]:\n",
    "  print(func(i))"
   ]
  },
  {
   "cell_type": "code",
   "execution_count": 44,
   "metadata": {
    "colab": {},
    "colab_type": "code",
    "id": "_gih-r9xlZBr"
   },
   "outputs": [],
   "source": [
    "#factorial calculation\n",
    "#0! = 1\n",
    "#1!= 1\n",
    "#2!= 2 * 1 =2\n",
    "#3! = 3 * 2 * 1 = 6\n",
    "#6! = 6 * 5* 4 *3 * 2 *1 = 720\n",
    "\n",
    "\n",
    "def factorial(num):\n",
    "  factorial = 1\n",
    "  if (num == 0 or num == 1):\n",
    "    print(\"Factorial: \", factorial)\n",
    "  else:\n",
    "    for i in range(num, 0, -1):\n",
    "      factorial = factorial * i\n",
    "    print(\"Factorial: \", factorial)\n",
    "\n",
    "\n",
    "# 1 * 5 = 5 = factorial\n",
    "# 5 * 4 = 20\n",
    "# 20 * 3 = 60\n",
    "#60 * 2 = 120\n",
    "# 120 * 1 = 120"
   ]
  },
  {
   "cell_type": "code",
   "execution_count": 48,
   "metadata": {
    "colab": {},
    "colab_type": "code",
    "id": "T5ykiNt_yeck"
   },
   "outputs": [
    {
     "name": "stdout",
     "output_type": "stream",
     "text": [
      "Factorial:  120\n"
     ]
    }
   ],
   "source": [
    "factorial(5)"
   ]
  },
  {
   "cell_type": "code",
   "execution_count": 49,
   "metadata": {},
   "outputs": [],
   "source": [
    "def factorial2(num):\n",
    "  factorial = 1\n",
    "  for i in range(1,num+1):\n",
    "    factorial *= i #factorial = factorial * i\n",
    "  return factorial\n"
   ]
  },
  {
   "cell_type": "code",
   "execution_count": 53,
   "metadata": {},
   "outputs": [
    {
     "data": {
      "text/plain": [
       "1"
      ]
     },
     "execution_count": 53,
     "metadata": {},
     "output_type": "execute_result"
    }
   ],
   "source": [
    "factorial2(0)"
   ]
  },
  {
   "cell_type": "code",
   "execution_count": 54,
   "metadata": {
    "colab": {},
    "colab_type": "code",
    "id": "OQBMccOwyhl9"
   },
   "outputs": [],
   "source": [
    "def factorial2(num2):\n",
    "  factorial2 = 1\n",
    "  if (num2 == 0 or num2 == 1):\n",
    "    print(\"Factorial: \", factorial2)\n",
    "  else:\n",
    "    for i in range(factorial2, num2+1):    \n",
    "        factorial2 *= i      \n",
    "    print(\"Factorial: \", factorial2)\n"
   ]
  },
  {
   "cell_type": "code",
   "execution_count": 55,
   "metadata": {
    "colab": {},
    "colab_type": "code",
    "id": "3e4oPm5yy3Co"
   },
   "outputs": [
    {
     "name": "stdout",
     "output_type": "stream",
     "text": [
      "Factorial:  720\n"
     ]
    }
   ],
   "source": [
    "factorial2(6)"
   ]
  },
  {
   "cell_type": "code",
   "execution_count": 59,
   "metadata": {
    "colab": {},
    "colab_type": "code",
    "id": "blFFawxml7wW"
   },
   "outputs": [],
   "source": [
    "def factorial3(nums):\n",
    "  factorial3 = 1\n",
    "  if (nums == 0 or nums == 1):\n",
    "    return factorial3\n",
    "  else:\n",
    "    for i in range(factorial3, nums+1):\n",
    "       factorial3 *= i      \n",
    "    return (factorial3)"
   ]
  },
  {
   "cell_type": "code",
   "execution_count": 60,
   "metadata": {
    "colab": {},
    "colab_type": "code",
    "id": "HVWS7rb9mAIf"
   },
   "outputs": [
    {
     "name": "stdout",
     "output_type": "stream",
     "text": [
      "1\n"
     ]
    }
   ],
   "source": [
    "x = factorial3(0)\n",
    "print(x)"
   ]
  },
  {
   "cell_type": "code",
   "execution_count": 61,
   "metadata": {},
   "outputs": [
    {
     "data": {
      "text/plain": [
       "1"
      ]
     },
     "execution_count": 61,
     "metadata": {},
     "output_type": "execute_result"
    }
   ],
   "source": [
    "x"
   ]
  },
  {
   "cell_type": "markdown",
   "metadata": {},
   "source": [
    "### Define functions with default parameters"
   ]
  },
  {
   "cell_type": "code",
   "execution_count": 79,
   "metadata": {
    "colab": {},
    "colab_type": "code",
    "id": "HIUms-AlzQu9"
   },
   "outputs": [],
   "source": [
    "def hello2(name, capLetter = False):\n",
    "  if capLetter:\n",
    "    print(\"Hello \" + name.upper())\n",
    "  else:\n",
    "    print(\"Hello \" + name)"
   ]
  },
  {
   "cell_type": "code",
   "execution_count": 80,
   "metadata": {
    "colab": {},
    "colab_type": "code",
    "id": "DkHm9Vtw0O4M"
   },
   "outputs": [
    {
     "name": "stdout",
     "output_type": "stream",
     "text": [
      "Hello hasan\n"
     ]
    }
   ],
   "source": [
    "hello2(\"hasan\")"
   ]
  },
  {
   "cell_type": "code",
   "execution_count": 81,
   "metadata": {
    "colab": {},
    "colab_type": "code",
    "id": "dYyDrfTn0TOS"
   },
   "outputs": [
    {
     "name": "stdout",
     "output_type": "stream",
     "text": [
      "Hello HASAN\n"
     ]
    }
   ],
   "source": [
    "hello2(\"hasan\", capLetter = True)"
   ]
  },
  {
   "cell_type": "markdown",
   "metadata": {},
   "source": [
    "### Lambda functions"
   ]
  },
  {
   "cell_type": "code",
   "execution_count": 83,
   "metadata": {},
   "outputs": [
    {
     "data": {
      "text/plain": [
       "6"
      ]
     },
     "execution_count": 83,
     "metadata": {},
     "output_type": "execute_result"
    }
   ],
   "source": [
    "#lambda function\n",
    "(lambda x: x + 1)(5)"
   ]
  },
  {
   "cell_type": "code",
   "execution_count": 88,
   "metadata": {},
   "outputs": [
    {
     "data": {
      "text/plain": [
       "6"
      ]
     },
     "execution_count": 88,
     "metadata": {},
     "output_type": "execute_result"
    }
   ],
   "source": [
    "my_lambda = lambda x: x + 1\n",
    "my_lambda(5)"
   ]
  },
  {
   "cell_type": "code",
   "execution_count": 89,
   "metadata": {},
   "outputs": [
    {
     "data": {
      "text/plain": [
       "'Full name: Guido Van Rossum'"
      ]
     },
     "execution_count": 89,
     "metadata": {},
     "output_type": "execute_result"
    }
   ],
   "source": [
    "full_name = lambda first, last: 'Full name: ' + first.title() + ' ' + last.title()\n",
    "full_name('guido', 'van rossum')"
   ]
  },
  {
   "cell_type": "markdown",
   "metadata": {},
   "source": [
    "## Arbitrary arguments * args and   ** kwargs\n",
    "* If you do not know how many arguments you will pass to the function, you can add a * before the parameter name (commonly referred to as * args) (Non Keyword Arguments)\n",
    "* The function will receive a *tuple* of arguments and can access them accordingly\n",
    "* You can also pass arguemnts with key = value. In this case, the order of the arguments won't matter.\n",
    "* In case you will need *arbitrary keyword arguments* add to ** before your parameter name in the function definition (commonly referred to as kwargs) (Arbitrary Keyword Arguments)"
   ]
  },
  {
   "cell_type": "markdown",
   "metadata": {},
   "source": [
    "### Arbitrary Arguments"
   ]
  },
  {
   "cell_type": "code",
   "execution_count": 103,
   "metadata": {
    "colab": {},
    "colab_type": "code",
    "id": "AzJDy8xD1Rbm"
   },
   "outputs": [],
   "source": [
    "def multp(*args):\n",
    "  result = 1\n",
    "  for i in args:\n",
    "    result *= i #result = result * i\n",
    "    print(result) \n",
    "  return result\n",
    "# *args keeps the data as tuple type."
   ]
  },
  {
   "cell_type": "code",
   "execution_count": 104,
   "metadata": {
    "colab": {
     "base_uri": "https://localhost:8080/",
     "height": 35
    },
    "colab_type": "code",
    "id": "crk-VWf912z_",
    "outputId": "251acfa4-5dcc-44fc-ff37-89e125cab82e"
   },
   "outputs": [
    {
     "name": "stdout",
     "output_type": "stream",
     "text": [
      "4\n",
      "20\n",
      "120\n",
      "840\n",
      "6720\n",
      "60480\n"
     ]
    },
    {
     "data": {
      "text/plain": [
       "60480"
      ]
     },
     "execution_count": 104,
     "metadata": {},
     "output_type": "execute_result"
    }
   ],
   "source": [
    "multp(4,5,6,7,8,9)"
   ]
  },
  {
   "cell_type": "code",
   "execution_count": 105,
   "metadata": {},
   "outputs": [
    {
     "name": "stdout",
     "output_type": "stream",
     "text": [
      "[2, 3, 5]\n",
      "[2, 3, 5, 2, 3, 5]\n"
     ]
    },
    {
     "data": {
      "text/plain": [
       "[2, 3, 5, 2, 3, 5]"
      ]
     },
     "execution_count": 105,
     "metadata": {},
     "output_type": "execute_result"
    }
   ],
   "source": [
    "multp([2,3,5], 2)"
   ]
  },
  {
   "cell_type": "code",
   "execution_count": 106,
   "metadata": {
    "colab": {
     "base_uri": "https://localhost:8080/",
     "height": 35
    },
    "colab_type": "code",
    "id": "sp9bJPmu1-lF",
    "outputId": "0aab548b-3a1f-4c19-ddfe-8287e43ee2f6"
   },
   "outputs": [
    {
     "name": "stdout",
     "output_type": "stream",
     "text": [
      "2\n",
      "6\n",
      "24\n",
      "0\n"
     ]
    },
    {
     "data": {
      "text/plain": [
       "0"
      ]
     },
     "execution_count": 106,
     "metadata": {},
     "output_type": "execute_result"
    }
   ],
   "source": [
    "multp(2,3,4,0)"
   ]
  },
  {
   "cell_type": "code",
   "execution_count": 101,
   "metadata": {},
   "outputs": [
    {
     "data": {
      "text/plain": [
       "[4, 5, 6, 4, 5, 6, 4, 5, 6]"
      ]
     },
     "execution_count": 101,
     "metadata": {},
     "output_type": "execute_result"
    }
   ],
   "source": [
    "[4,5,6] * 3"
   ]
  },
  {
   "cell_type": "markdown",
   "metadata": {},
   "source": [
    "### Keyword Arguments"
   ]
  },
  {
   "cell_type": "code",
   "execution_count": 107,
   "metadata": {},
   "outputs": [],
   "source": [
    "def exponentiate(base, exponent):\n",
    "    print(\"Base: \", base, \" Exponent: \", exponent)\n",
    "    return base ** exponent"
   ]
  },
  {
   "cell_type": "code",
   "execution_count": 110,
   "metadata": {},
   "outputs": [
    {
     "name": "stdout",
     "output_type": "stream",
     "text": [
      "Base:  5  Exponent:  2\n"
     ]
    },
    {
     "data": {
      "text/plain": [
       "25"
      ]
     },
     "execution_count": 110,
     "metadata": {},
     "output_type": "execute_result"
    }
   ],
   "source": [
    "exponentiate(exponent = 2, base = 5)"
   ]
  },
  {
   "cell_type": "markdown",
   "metadata": {},
   "source": [
    "### Arbitrary Keyword Arguments"
   ]
  },
  {
   "cell_type": "code",
   "execution_count": 120,
   "metadata": {},
   "outputs": [
    {
     "name": "stdout",
     "output_type": "stream",
     "text": [
      "Their name is Hasan Istanbul and they are 25 years old.\n"
     ]
    }
   ],
   "source": [
    "def func_kwargs(**kwargs):\n",
    "    print(\"Their name is \" + kwargs[\"name\"] + \" \" + kwargs[\"lname\"] + \" and they are \" + str(kwargs[\"age\"]) + \" years old.\")\n",
    "    \n",
    "func_kwargs(name = \"Hasan\", lname = \"Istanbul\", age=25, gender = \"M\")"
   ]
  },
  {
   "cell_type": "markdown",
   "metadata": {},
   "source": [
    "### Salary and Raise Question Revisited\n",
    "\n",
    "\n",
    "At a particular company, employees’ salaries are raised progressively, calculated using the following formula:\n",
    "\n",
    "salary = salary + salary x (raise percentage) \n",
    "\n",
    "Raises are predefined as given below, according to the current salary of the worker. For instance, if the worker’s current salary is less than or equal to 1000 TL, then its salary is increased 15%.\n",
    "\n",
    "\n",
    "Range | Percentage\n",
    "--- | ---\n",
    "0 < salary ≤ 1000 | 15%\n",
    "1000 < salary ≤ 2000 |10%\n",
    "2000 < salary ≤ 3000| 5%\n",
    "3000 < salary | 2.5%\n",
    "\n",
    "\n",
    "Write a program that asks the user to enter his/her salary. Then your program should calculate and print the raised salary of the user.\n",
    "\n",
    "Some example program runs:\n",
    "\n",
    "Please enter your salary: 1000\n",
    "\n",
    "Your raised salary is 1150.0.\n",
    "\n",
    "Please enter your salary: 2500\n",
    "\n",
    "Your raised salary is 2625.0."
   ]
  },
  {
   "cell_type": "code",
   "execution_count": 124,
   "metadata": {
    "colab": {},
    "colab_type": "code",
    "id": "M_gEN02J7Z6P"
   },
   "outputs": [],
   "source": [
    "def salaryCalc(salary):\n",
    "\n",
    "  if salary <= 0:\n",
    "    return(\"Invalid value\")\n",
    "  else:\n",
    "    if 0 < salary <= 1000:\n",
    "      salary = salary + salary * 0.15\n",
    "    elif salary <= 2000:\n",
    "      salary = salary + salary * 0.1\n",
    "    elif salary <= 3000:\n",
    "      salary = salary + salary * 0.05\n",
    "    else:\n",
    "      salary = salary + salary * 0.025\n",
    "\n",
    "    return (\"New salary: \" + str(salary))"
   ]
  },
  {
   "cell_type": "code",
   "execution_count": 125,
   "metadata": {
    "colab": {},
    "colab_type": "code",
    "id": "Tp8kE5iH7-_x"
   },
   "outputs": [
    {
     "data": {
      "text/plain": [
       "'Invalid value'"
      ]
     },
     "execution_count": 125,
     "metadata": {},
     "output_type": "execute_result"
    }
   ],
   "source": [
    "salaryCalc(-5)"
   ]
  },
  {
   "cell_type": "code",
   "execution_count": 126,
   "metadata": {},
   "outputs": [
    {
     "data": {
      "text/plain": [
       "'New salary: 920.0'"
      ]
     },
     "execution_count": 126,
     "metadata": {},
     "output_type": "execute_result"
    }
   ],
   "source": [
    "salaryCalc(800)"
   ]
  },
  {
   "cell_type": "code",
   "execution_count": 133,
   "metadata": {
    "colab": {},
    "colab_type": "code",
    "id": "I9BT87fl-Kgr"
   },
   "outputs": [],
   "source": [
    "\n",
    "def salaryCalc2():\n",
    "\n",
    "  salary = float(input(\"Please enter your current salary: \"))\n",
    "\n",
    "  if salary <= 0:\n",
    "    return(\"Your salary is impossible...\")\n",
    "  else:\n",
    "    if 0 < salary <= 1000:\n",
    "      salary = salary + salary * 0.15\n",
    "    elif salary <= 2000:\n",
    "      salary = salary + salary * 0.1\n",
    "    elif salary <= 3000:\n",
    "      salary = salary + salary * 0.05\n",
    "    else:\n",
    "      salary = salary + salary * 0.025\n",
    "\n",
    "    return (\"New salary: \" +  str(salary))\n",
    " "
   ]
  },
  {
   "cell_type": "code",
   "execution_count": 134,
   "metadata": {
    "colab": {},
    "colab_type": "code",
    "id": "bF1ty6Cc8U_X"
   },
   "outputs": [
    {
     "name": "stdout",
     "output_type": "stream",
     "text": [
      "Please enter your current salary: 0\n",
      "Your salary is impossible...\n"
     ]
    }
   ],
   "source": [
    "new_salary = salaryCalc2() \n",
    "print(new_salary)"
   ]
  },
  {
   "cell_type": "markdown",
   "metadata": {
    "colab_type": "text",
    "id": "6sOO_4CbBygM"
   },
   "source": [
    "### Let's write a function that returns a random word from a list.\n",
    "\n",
    "### Modules\n",
    "\n",
    "#### You can import public modules like numpy and tensorflow\n",
    "\n",
    "import numpy\n",
    "\n",
    "import tensorflow as tf\n",
    "\n",
    "#### You can also import your own modules\n",
    "\n",
    "import myModules\n",
    "\n",
    "myModules.myFunc()\n",
    "\n",
    "#### To import everything from the module:\n",
    "\n",
    "from myModules import *\n",
    "\n",
    "myFunc()"
   ]
  },
  {
   "cell_type": "code",
   "execution_count": 135,
   "metadata": {
    "colab": {},
    "colab_type": "code",
    "id": "fyf2VtDZ3ALS"
   },
   "outputs": [],
   "source": [
    "words = [\"artificial\",\"intelligence\",\"machine\",\"learning\",\"python\",\"programming\"]\n",
    "\n",
    "\n",
    "#from random import *\n",
    "import random as rnd\n",
    "\n",
    "def randomWord(words):\n",
    "  index = rnd.randint(0, len(words)-1)\n",
    "  return words[index]\n",
    "  \n",
    "\n"
   ]
  },
  {
   "cell_type": "code",
   "execution_count": 136,
   "metadata": {},
   "outputs": [
    {
     "data": {
      "text/plain": [
       "6"
      ]
     },
     "execution_count": 136,
     "metadata": {},
     "output_type": "execute_result"
    }
   ],
   "source": [
    "len(words)"
   ]
  },
  {
   "cell_type": "code",
   "execution_count": 141,
   "metadata": {
    "colab": {
     "base_uri": "https://localhost:8080/",
     "height": 35
    },
    "colab_type": "code",
    "id": "vdt230OzC_DR",
    "outputId": "d86a979d-f371-44b4-9769-3b074686680c"
   },
   "outputs": [
    {
     "name": "stdout",
     "output_type": "stream",
     "text": [
      "programming\n"
     ]
    }
   ],
   "source": [
    "word = randomWord(words)\n",
    "print(word)"
   ]
  },
  {
   "cell_type": "markdown",
   "metadata": {
    "colab_type": "text",
    "id": "MfFOsrA6AfmC"
   },
   "source": [
    "### Global & Local Variables"
   ]
  },
  {
   "cell_type": "code",
   "execution_count": 153,
   "metadata": {
    "colab": {
     "base_uri": "https://localhost:8080/",
     "height": 35
    },
    "colab_type": "code",
    "id": "7_UD1zAn_lxX",
    "outputId": "943b58cd-497e-4cec-962f-37084451f85a"
   },
   "outputs": [
    {
     "name": "stdout",
     "output_type": "stream",
     "text": [
      "5\n"
     ]
    }
   ],
   "source": [
    "x = 5\n",
    "\n",
    "print(x)"
   ]
  },
  {
   "cell_type": "code",
   "execution_count": 154,
   "metadata": {
    "colab": {},
    "colab_type": "code",
    "id": "IisEjgqpAqCi"
   },
   "outputs": [],
   "source": [
    "def display():\n",
    "  x = 4\n",
    "  return(x)"
   ]
  },
  {
   "cell_type": "code",
   "execution_count": 155,
   "metadata": {
    "colab": {
     "base_uri": "https://localhost:8080/",
     "height": 35
    },
    "colab_type": "code",
    "id": "6dhEuYDjAylB",
    "outputId": "3d88f156-bdd1-411b-9fcb-93715c02d292"
   },
   "outputs": [
    {
     "data": {
      "text/plain": [
       "4"
      ]
     },
     "execution_count": 155,
     "metadata": {},
     "output_type": "execute_result"
    }
   ],
   "source": [
    "display()"
   ]
  },
  {
   "cell_type": "code",
   "execution_count": 156,
   "metadata": {
    "colab": {
     "base_uri": "https://localhost:8080/",
     "height": 35
    },
    "colab_type": "code",
    "id": "dPUxfagJA7Gn",
    "outputId": "ba6bf99f-ba77-4498-b6f5-fe4c2328d920"
   },
   "outputs": [
    {
     "name": "stdout",
     "output_type": "stream",
     "text": [
      "5\n"
     ]
    }
   ],
   "source": [
    "print(x)"
   ]
  },
  {
   "cell_type": "markdown",
   "metadata": {},
   "source": [
    "### An experiment (and the 'global' keyword) "
   ]
  },
  {
   "cell_type": "code",
   "execution_count": 161,
   "metadata": {},
   "outputs": [
    {
     "name": "stdout",
     "output_type": "stream",
     "text": [
      "my var is  2  in the function\n",
      "my var is  5  globally\n"
     ]
    }
   ],
   "source": [
    "my_var = 5\n",
    "\n",
    "def my_func():\n",
    "    my_var = 2\n",
    "    print(\"my var is \", my_var, \" in the function\")\n",
    "\n",
    "my_func()\n",
    "print(\"my var is \", my_var, \" globally\")"
   ]
  },
  {
   "cell_type": "markdown",
   "metadata": {
    "colab_type": "text",
    "id": "WJreHgrGllCV"
   },
   "source": [
    "## Methods\n",
    "\n",
    "Functions are a block of code that carry out a specific task, and they are called by name. They may contain arguments too.\n",
    "\n",
    "They may also *return* something, or not. If they return something, their returned value can be assigned to a variable or used elsewhere.\n",
    "\n",
    "Methods are somewhat similar to functions, although they are associated with objects/classes. They are used for an object for which it is called, such as a String or List.\n",
    "\n",
    "Like functions, methods are also called by name \n",
    "\n",
    "\n",
    "object.methodName(parameter)"
   ]
  },
  {
   "cell_type": "code",
   "execution_count": 162,
   "metadata": {
    "colab": {},
    "colab_type": "code",
    "id": "G56qfrjqDEDP"
   },
   "outputs": [
    {
     "name": "stdout",
     "output_type": "stream",
     "text": [
      "Please enter a name: heya\n",
      "HEYA\n"
     ]
    }
   ],
   "source": [
    "s = input(\"Please enter a name: \")\n",
    "\n",
    "\n",
    "print(s.upper())"
   ]
  },
  {
   "cell_type": "code",
   "execution_count": 163,
   "metadata": {},
   "outputs": [
    {
     "data": {
      "text/plain": [
       "[1, 2, 3, 5, 6]"
      ]
     },
     "execution_count": 163,
     "metadata": {},
     "output_type": "execute_result"
    }
   ],
   "source": [
    "#it does not return any value\n",
    "list1 = [1,2,3,4,5,6]\n",
    "\n",
    "list1.remove(4)\n",
    "list1"
   ]
  },
  {
   "cell_type": "code",
   "execution_count": 164,
   "metadata": {},
   "outputs": [
    {
     "data": {
      "text/plain": [
       "[1, 2, 3, 5, 6]"
      ]
     },
     "execution_count": 164,
     "metadata": {},
     "output_type": "execute_result"
    }
   ],
   "source": [
    "list1"
   ]
  },
  {
   "cell_type": "code",
   "execution_count": 165,
   "metadata": {},
   "outputs": [
    {
     "data": {
      "text/plain": [
       "4"
      ]
     },
     "execution_count": 165,
     "metadata": {},
     "output_type": "execute_result"
    }
   ],
   "source": [
    "list1.index(6)"
   ]
  },
  {
   "cell_type": "code",
   "execution_count": 166,
   "metadata": {
    "colab": {
     "base_uri": "https://localhost:8080/",
     "height": 35
    },
    "colab_type": "code",
    "id": "7DzoBNeApbzZ",
    "outputId": "1574c1d7-156b-4650-f3b6-8a2b22b98eed"
   },
   "outputs": [
    {
     "name": "stdout",
     "output_type": "stream",
     "text": [
      "5\n"
     ]
    }
   ],
   "source": [
    "#return the index of the element with the highest value in a given list.\n",
    "\n",
    "myList = [45,7,23,6,12,78]\n",
    "\n",
    "maxElement = max(myList)\n",
    "\n",
    "maxIndex = myList.index(maxElement)\n",
    "\n",
    "print(maxIndex)"
   ]
  },
  {
   "cell_type": "code",
   "execution_count": null,
   "metadata": {},
   "outputs": [],
   "source": []
  }
 ],
 "metadata": {
  "colab": {
   "collapsed_sections": [],
   "name": "Day_5.ipynb",
   "provenance": []
  },
  "kernelspec": {
   "display_name": "Python 3",
   "language": "python",
   "name": "python3"
  },
  "language_info": {
   "codemirror_mode": {
    "name": "ipython",
    "version": 3
   },
   "file_extension": ".py",
   "mimetype": "text/x-python",
   "name": "python",
   "nbconvert_exporter": "python",
   "pygments_lexer": "ipython3",
   "version": "3.9.1"
  }
 },
 "nbformat": 4,
 "nbformat_minor": 1
}
