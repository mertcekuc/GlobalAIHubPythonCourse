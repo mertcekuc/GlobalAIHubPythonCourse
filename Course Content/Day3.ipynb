{
 "cells": [
  {
   "cell_type": "markdown",
   "metadata": {
    "colab_type": "text",
    "id": "HHgvBhnB5_uo"
   },
   "source": [
    "\n",
    "## Question-1\n",
    "\n",
    "Write a program that inputs an integer value (stop_number) from the user and prints the sum of all numbers from 0 to stop_number. You can assume the user will enter a valid value."
   ]
  },
  {
   "cell_type": "code",
   "execution_count": null,
   "metadata": {
    "colab": {},
    "colab_type": "code",
    "id": "N32FAirH5-J2"
   },
   "outputs": [],
   "source": [
    "stop_number = int(input(\"Please enter a stop number: \"))\n",
    "\n",
    "result = 0\n",
    "for i in range(0, stop_number):\n",
    "    result = result + i\n",
    "    print(result)\n",
    "print(result)"
   ]
  },
  {
   "cell_type": "markdown",
   "metadata": {
    "colab_type": "text",
    "id": "G63Y7XEL6KmJ"
   },
   "source": [
    "## Question-2\n",
    "\n",
    "Extend your program to also input the start_number from the user. In this case, your program will add all numbers from start_number to stop_number. You can assume that the user will enter two valid values."
   ]
  },
  {
   "cell_type": "code",
   "execution_count": null,
   "metadata": {
    "colab": {},
    "colab_type": "code",
    "id": "10xHuwEH6LeW"
   },
   "outputs": [],
   "source": [
    "start_number = int(input(\"Please enter a start number: \"))\n",
    "stop_number = int(input(\"Please enter a stop number: \"))\n",
    "\n",
    "result = 0\n",
    "for i in range(start_number, stop_number):\n",
    "  result += i\n",
    "  \n",
    "print(result) "
   ]
  },
  {
   "cell_type": "markdown",
   "metadata": {
    "colab_type": "text",
    "id": "_Bu5hGFw6QOK"
   },
   "source": [
    "## Question-3\n",
    "\n",
    "Extend your program to check if the start_number is an integer between 0 and 100. If so, your program will continue to ask for the second input and perform calculations; otherwise, it prints an error and stops execution."
   ]
  },
  {
   "cell_type": "code",
   "execution_count": null,
   "metadata": {
    "colab": {},
    "colab_type": "code",
    "id": "VofmbOeA6Tlg"
   },
   "outputs": [],
   "source": [
    "start_number = int(input(\"Please enter a start number: \"))\n",
    "\n",
    "if 0 <= start_number <= 100:\n",
    "  stop_number = int(input(\"Please enter a stop number: \"))\n",
    "  \n",
    "  if start_number <= stop_number <= 100:\n",
    "  \n",
    "    result = 0\n",
    "    for i in range(start_number, stop_number):\n",
    "      result += i\n",
    "    print(result)\n",
    "  else:\n",
    "    print(\"Invalid stop number\")\n",
    "\n",
    "  \n",
    "else:\n",
    "  print(\"Invalid start number\")"
   ]
  },
  {
   "cell_type": "markdown",
   "metadata": {
    "colab_type": "text",
    "id": "9NqX9G3F8uZQ"
   },
   "source": [
    "### Modules\n",
    "\n",
    "These are tools that contain some functions and attributes that enable us to perform some functions easily. It provides the opportunity to use these functions it hosts in different files and programs over and over again. Thanks to the modules, Python has become a much more useful and easy-to-implement.\n",
    "\n",
    "You can create and use your own modues, but python also comes with a range of built in modules (We will look at more on Day 4)\n",
    "\n",
    "In order to use any module in Python, we first need to 'import' it. Importing means making functions and attributes within one module available from within another program.\n",
    "\n",
    "**import** module_name"
   ]
  },
  {
   "cell_type": "code",
   "execution_count": null,
   "metadata": {
    "colab": {},
    "colab_type": "code",
    "id": "MDmE3VeY2BUv"
   },
   "outputs": [],
   "source": [
    "import random as rnd\n",
    "\n",
    "secret = rnd.randint(1,100)\n",
    "\n",
    "check = False\n",
    "\n",
    "#guess = int(input(\"Please enter you guess: \"))\n",
    "\n",
    "for x in range(5):\n",
    "  guess = int(input(\"Please enter you guess: \"))\n",
    "  if guess == secret:\n",
    "    print(\"Congrats!!\")\n",
    "    check = True\n",
    "    break\n",
    "  elif guess < secret:\n",
    "    print(\"Please enter a greater number!!\")\n",
    "  else: \n",
    "    print(\"Please enter a smaller number!!\")\n",
    "    \n",
    "if not check:\n",
    "  print(\"Looseer..The number was: \", secret)"
   ]
  },
  {
   "cell_type": "markdown",
   "metadata": {
    "colab_type": "text",
    "id": "sp_E8xAhG21y"
   },
   "source": [
    "# Tuples\n",
    "\n",
    "\n",
    "\n",
    "* Tuples are ordered, and indexed. \n",
    "* They are unchangeable and allow duplicate values\n",
    "* We  write them with round brackets ()\n",
    "\n"
   ]
  },
  {
   "cell_type": "code",
   "execution_count": null,
   "metadata": {
    "colab": {
     "base_uri": "https://localhost:8080/",
     "height": 52
    },
    "colab_type": "code",
    "id": "8Rui2302H8jD",
    "outputId": "c925805c-b8c6-48bd-ce59-62df117086be"
   },
   "outputs": [],
   "source": [
    "tupl = (1,2,3,4,5)\n",
    "print(tupl)\n",
    "print(type(tupl))"
   ]
  },
  {
   "cell_type": "code",
   "execution_count": null,
   "metadata": {
    "colab": {
     "base_uri": "https://localhost:8080/",
     "height": 35
    },
    "colab_type": "code",
    "id": "wZffTxPsIqqI",
    "outputId": "e043064f-a416-46bd-adcc-9f739ff992f9"
   },
   "outputs": [],
   "source": [
    "tuple2 = ()  \n",
    "type(tuple2)"
   ]
  },
  {
   "cell_type": "code",
   "execution_count": null,
   "metadata": {
    "colab": {
     "base_uri": "https://localhost:8080/",
     "height": 35
    },
    "colab_type": "code",
    "id": "IrvB1HzGLYBZ",
    "outputId": "dab4ddd5-3799-493f-c314-8f71b67320b8"
   },
   "outputs": [],
   "source": [
    "print(tupl[3])"
   ]
  },
  {
   "cell_type": "code",
   "execution_count": null,
   "metadata": {
    "colab": {
     "base_uri": "https://localhost:8080/",
     "height": 35
    },
    "colab_type": "code",
    "id": "y_9FkBJORo5y",
    "outputId": "ec7d4abf-777d-4363-c014-9b5ed5c69101"
   },
   "outputs": [],
   "source": [
    "tupl[-2]"
   ]
  },
  {
   "cell_type": "code",
   "execution_count": null,
   "metadata": {
    "colab": {
     "base_uri": "https://localhost:8080/",
     "height": 35
    },
    "colab_type": "code",
    "id": "ZPMFZi-qRs4a",
    "outputId": "7b3703ec-141d-4ba4-9a4c-d48e3c9ce5d6"
   },
   "outputs": [],
   "source": [
    "tupl[:4]"
   ]
  },
  {
   "cell_type": "markdown",
   "metadata": {},
   "source": [
    "### .index()"
   ]
  },
  {
   "cell_type": "code",
   "execution_count": null,
   "metadata": {
    "colab": {
     "base_uri": "https://localhost:8080/",
     "height": 35
    },
    "colab_type": "code",
    "id": "TeT5RXH1R6Gv",
    "outputId": "94499c40-f15e-4f5d-8c59-f68470a8ca10"
   },
   "outputs": [],
   "source": [
    "dm3 = (\"asli\", 5, 8, \"september\")\n",
    "dm3.index(\"september\")"
   ]
  },
  {
   "cell_type": "markdown",
   "metadata": {},
   "source": [
    "### .count()"
   ]
  },
  {
   "cell_type": "code",
   "execution_count": null,
   "metadata": {
    "colab": {
     "base_uri": "https://localhost:8080/",
     "height": 35
    },
    "colab_type": "code",
    "id": "wRks9wXwSRhJ",
    "outputId": "03b8bf14-973e-4413-c16d-60b29f14d26e"
   },
   "outputs": [],
   "source": [
    "dm3.count(5)\n"
   ]
  },
  {
   "cell_type": "code",
   "execution_count": null,
   "metadata": {
    "colab": {
     "base_uri": "https://localhost:8080/",
     "height": 239
    },
    "colab_type": "code",
    "id": "Bo_JC5jkSWMf",
    "outputId": "c8777e9c-074f-42d5-9e72-bf7c154eb653"
   },
   "outputs": [],
   "source": [
    "dm4 = (\"apple\",\"pear\",\"strawberry\")\n",
    "\n",
    "dm4[0] = \"cherry\""
   ]
  },
  {
   "cell_type": "code",
   "execution_count": null,
   "metadata": {},
   "outputs": [],
   "source": [
    "print(dm4)"
   ]
  },
  {
   "cell_type": "code",
   "execution_count": null,
   "metadata": {
    "colab": {},
    "colab_type": "code",
    "id": "twLyvUivSoBr"
   },
   "outputs": [],
   "source": [
    "dm4.remove(\"pear\")"
   ]
  },
  {
   "cell_type": "code",
   "execution_count": null,
   "metadata": {
    "colab": {
     "base_uri": "https://localhost:8080/",
     "height": 35
    },
    "colab_type": "code",
    "id": "hX8AvulwTm-D",
    "outputId": "d25b0273-6de6-427c-8979-4a21b1c0309c"
   },
   "outputs": [],
   "source": [
    "s5 = (5,6)\n",
    "\n",
    "print(type(s5))"
   ]
  },
  {
   "cell_type": "code",
   "execution_count": null,
   "metadata": {
    "colab": {
     "base_uri": "https://localhost:8080/",
     "height": 35
    },
    "colab_type": "code",
    "id": "Cc0NzYWbT21n",
    "outputId": "994340a4-9c84-4ec7-ccc5-deeab889f5ee"
   },
   "outputs": [],
   "source": [
    "a[s5]"
   ]
  },
  {
   "cell_type": "code",
   "execution_count": null,
   "metadata": {
    "colab": {
     "base_uri": "https://localhost:8080/",
     "height": 35
    },
    "colab_type": "code",
    "id": "3XIfNKugUB1h",
    "outputId": "88af65b6-2839-49f5-9326-ad97e1807fda"
   },
   "outputs": [],
   "source": [
    "a[(3,4)]"
   ]
  },
  {
   "cell_type": "markdown",
   "metadata": {
    "colab_type": "text",
    "id": "IdVXxCBHJ07g"
   },
   "source": [
    "# Dictionaries\n",
    "\n",
    "\n",
    "\n",
    "* A data type that is used to store data in **key:value** pairs\n",
    "* Dictionary are unordered, changeable and does not allow duplicates. \n",
    "* Items can be referred to by using the key name.\n",
    "* The value can be anything, but the key must be a data type that is immutable (like a string, number or tuple)\n",
    "* {}\n",
    "\n",
    "\n",
    "\n"
   ]
  },
  {
   "cell_type": "markdown",
   "metadata": {},
   "source": [
    "### Creating Dictionaries"
   ]
  },
  {
   "cell_type": "code",
   "execution_count": null,
   "metadata": {},
   "outputs": [],
   "source": [
    "d = {}\n",
    "\n",
    "print(d)\n",
    "type(d)"
   ]
  },
  {
   "cell_type": "code",
   "execution_count": null,
   "metadata": {
    "colab": {
     "base_uri": "https://localhost:8080/",
     "height": 35
    },
    "colab_type": "code",
    "id": "n5qcMd-GLsKa",
    "outputId": "b93ee552-50e7-49ba-cc11-8d09887643f1"
   },
   "outputs": [],
   "source": [
    "d = {\"python\":1, \"course\":2}\n",
    "print(d)"
   ]
  },
  {
   "cell_type": "code",
   "execution_count": null,
   "metadata": {
    "colab": {
     "base_uri": "https://localhost:8080/",
     "height": 35
    },
    "colab_type": "code",
    "id": "EX9oMWnHL7fq",
    "outputId": "011a543e-a1fa-4d88-d8e8-822e4a806955"
   },
   "outputs": [],
   "source": [
    "my_dictionary = {\"machine\":\"learning\", \"artificial\":\"intelligence\" }\n",
    "print(my_dictionary)"
   ]
  },
  {
   "cell_type": "markdown",
   "metadata": {},
   "source": [
    "### Accessing Items\n",
    "\n",
    "#### 1. With  [  ]"
   ]
  },
  {
   "cell_type": "code",
   "execution_count": null,
   "metadata": {
    "colab": {
     "base_uri": "https://localhost:8080/",
     "height": 36
    },
    "colab_type": "code",
    "id": "eckt9hWHMKyB",
    "outputId": "2574c92e-966b-4f7a-faf9-b6b782bda0b4"
   },
   "outputs": [],
   "source": [
    "print(my_dictionary[\"artificial\"])"
   ]
  },
  {
   "cell_type": "markdown",
   "metadata": {},
   "source": [
    "#### 2. With .get()"
   ]
  },
  {
   "cell_type": "code",
   "execution_count": null,
   "metadata": {},
   "outputs": [],
   "source": [
    "print(my_dictionary.get(\"machine\"))"
   ]
  },
  {
   "cell_type": "markdown",
   "metadata": {},
   "source": [
    "### Creating new Items\n",
    "#### 1. With []"
   ]
  },
  {
   "cell_type": "code",
   "execution_count": null,
   "metadata": {},
   "outputs": [],
   "source": [
    "my_dictionary[\"java\"] = \"programming\"\n",
    "print(my_dictionary)"
   ]
  },
  {
   "cell_type": "code",
   "execution_count": null,
   "metadata": {},
   "outputs": [],
   "source": [
    "my_dictionary[\"ruby\"] = \"programming\"\n",
    "print(my_dictionary)"
   ]
  },
  {
   "cell_type": "code",
   "execution_count": null,
   "metadata": {},
   "outputs": [],
   "source": [
    "my_dictionary[\"ruby\"]"
   ]
  },
  {
   "cell_type": "markdown",
   "metadata": {},
   "source": [
    "#### 2. With .update()"
   ]
  },
  {
   "cell_type": "code",
   "execution_count": null,
   "metadata": {},
   "outputs": [],
   "source": [
    "my_dictionary.update({\"data\": \"science\"})\n",
    "print(my_dictionary)"
   ]
  },
  {
   "cell_type": "code",
   "execution_count": null,
   "metadata": {},
   "outputs": [],
   "source": [
    "my_dictionary.update({\"machine\": \"intelligenge\"})\n",
    "print(my_dictionary)"
   ]
  },
  {
   "cell_type": "markdown",
   "metadata": {},
   "source": [
    "### Get the keys, values and items"
   ]
  },
  {
   "cell_type": "code",
   "execution_count": null,
   "metadata": {
    "colab": {
     "base_uri": "https://localhost:8080/",
     "height": 35
    },
    "colab_type": "code",
    "id": "ntLDke2enyh6",
    "outputId": "e64c7450-f5cb-4ef4-ac96-c32e702e799d"
   },
   "outputs": [],
   "source": [
    "my_dictionary.keys()"
   ]
  },
  {
   "cell_type": "code",
   "execution_count": null,
   "metadata": {
    "colab": {
     "base_uri": "https://localhost:8080/",
     "height": 35
    },
    "colab_type": "code",
    "id": "RRCll5K-oEW6",
    "outputId": "ca0a5e9d-4b4c-4f91-fc2e-6581f76dc6f2"
   },
   "outputs": [],
   "source": [
    "my_dictionary.values()"
   ]
  },
  {
   "cell_type": "code",
   "execution_count": null,
   "metadata": {
    "colab": {
     "base_uri": "https://localhost:8080/",
     "height": 35
    },
    "colab_type": "code",
    "id": "YYzF_DyGoHWm",
    "outputId": "efa04009-abdf-40e1-d177-cb046ff201b7"
   },
   "outputs": [],
   "source": [
    "my_dictionary.items()"
   ]
  },
  {
   "cell_type": "code",
   "execution_count": null,
   "metadata": {
    "colab": {
     "base_uri": "https://localhost:8080/",
     "height": 70
    },
    "colab_type": "code",
    "id": "rcKOifmfoap9",
    "outputId": "fdea2f68-ed1b-45c2-ba42-54e7e56b2ae4"
   },
   "outputs": [],
   "source": [
    "for k in my_dictionary.keys():\n",
    "  print(k)\n"
   ]
  },
  {
   "cell_type": "code",
   "execution_count": null,
   "metadata": {
    "colab": {
     "base_uri": "https://localhost:8080/",
     "height": 52
    },
    "colab_type": "code",
    "id": "bhSGEUT5oqc3",
    "outputId": "c72bb74e-5010-476f-a289-f63ff4e68572"
   },
   "outputs": [],
   "source": [
    "for v in my_dictionary.values():\n",
    "  print(v)"
   ]
  },
  {
   "cell_type": "code",
   "execution_count": null,
   "metadata": {
    "colab": {
     "base_uri": "https://localhost:8080/",
     "height": 70
    },
    "colab_type": "code",
    "id": "j5Oyr1AFpC4f",
    "outputId": "98ea8ef2-915c-4dd4-d0c9-d5987b97b12d",
    "scrolled": true
   },
   "outputs": [],
   "source": [
    "for k,v in my_dictionary.items():\n",
    "  print(\"Key: \" + k + \" Value: \" + v)"
   ]
  },
  {
   "cell_type": "code",
   "execution_count": null,
   "metadata": {
    "colab": {
     "base_uri": "https://localhost:8080/",
     "height": 35
    },
    "colab_type": "code",
    "id": "iy6FAQxHpt6Q",
    "outputId": "a59e0324-fb84-4c14-e723-2e535c09105c"
   },
   "outputs": [],
   "source": [
    "my_dictionary[1] = [3,4,5]\n",
    "print(my_dictionary)\n",
    "\n",
    "#show key with list"
   ]
  },
  {
   "cell_type": "markdown",
   "metadata": {},
   "source": [
    "### Removing Elements with .pop(), .popitem() and del "
   ]
  },
  {
   "cell_type": "code",
   "execution_count": null,
   "metadata": {
    "colab": {
     "base_uri": "https://localhost:8080/",
     "height": 35
    },
    "colab_type": "code",
    "id": "AINo_32Upzyv",
    "outputId": "81ed10a8-59f8-4d29-afc5-f81281ae6541"
   },
   "outputs": [],
   "source": [
    "my_dictionary.pop(1)\n",
    "print(my_dictionary)"
   ]
  },
  {
   "cell_type": "code",
   "execution_count": null,
   "metadata": {},
   "outputs": [],
   "source": [
    "my_dictionary.pop(1)"
   ]
  },
  {
   "cell_type": "code",
   "execution_count": null,
   "metadata": {},
   "outputs": [],
   "source": [
    "my_dictionary.popitem()\n",
    "print(my_dictionary)"
   ]
  },
  {
   "cell_type": "code",
   "execution_count": null,
   "metadata": {
    "colab": {
     "base_uri": "https://localhost:8080/",
     "height": 35
    },
    "colab_type": "code",
    "id": "nyH6npGYuhRD",
    "outputId": "b5a8ef56-c1cb-449b-9903-c426bb8c9fc7"
   },
   "outputs": [],
   "source": [
    "del my_dictionary[\"ruby\"]\n",
    "print(my_dictionary)"
   ]
  },
  {
   "cell_type": "markdown",
   "metadata": {},
   "source": [
    "### More to do with dictionaries"
   ]
  },
  {
   "cell_type": "code",
   "execution_count": null,
   "metadata": {
    "colab": {
     "base_uri": "https://localhost:8080/",
     "height": 35
    },
    "colab_type": "code",
    "id": "U8QBwgp0sSJi",
    "outputId": "4f9ed760-c159-42e8-8a03-79180334dd79"
   },
   "outputs": [],
   "source": [
    "len(my_dictionary)"
   ]
  },
  {
   "cell_type": "code",
   "execution_count": null,
   "metadata": {
    "colab": {
     "base_uri": "https://localhost:8080/",
     "height": 35
    },
    "colab_type": "code",
    "id": "89k7tFi_sWJO",
    "outputId": "ac845006-5d16-42f4-f51d-e974b74e4be8"
   },
   "outputs": [],
   "source": [
    "\"a\" in my_dictionary"
   ]
  },
  {
   "cell_type": "code",
   "execution_count": null,
   "metadata": {
    "colab": {
     "base_uri": "https://localhost:8080/",
     "height": 35
    },
    "colab_type": "code",
    "id": "XdyIf0L1sYRM",
    "outputId": "bc09b449-a697-4c67-8ed4-e28ad9b6b118"
   },
   "outputs": [],
   "source": [
    "\"machine\" in my_dictionary"
   ]
  },
  {
   "cell_type": "code",
   "execution_count": null,
   "metadata": {},
   "outputs": [],
   "source": [
    "my_copy = my_dictionary.copy()\n",
    "print(my_copy)"
   ]
  },
  {
   "cell_type": "code",
   "execution_count": null,
   "metadata": {},
   "outputs": [],
   "source": [
    "my_copy['deep'] = 'AI'\n",
    "my_copy"
   ]
  },
  {
   "cell_type": "code",
   "execution_count": null,
   "metadata": {},
   "outputs": [],
   "source": [
    "my_dictionary"
   ]
  },
  {
   "cell_type": "code",
   "execution_count": null,
   "metadata": {
    "colab": {},
    "colab_type": "code",
    "id": "rED5dTIhvSO6"
   },
   "outputs": [],
   "source": [
    "d4 = {\"human\":2,\n",
    "      \"cat\":4,\n",
    "      \"spider\":8\n",
    "     }\n",
    "\n",
    "for i in d4:\n",
    "  leg = d4[i]\n",
    "  print(\"A\", i, \"has\", leg, \"legs.\")"
   ]
  },
  {
   "cell_type": "code",
   "execution_count": null,
   "metadata": {
    "colab": {},
    "colab_type": "code",
    "id": "CGzBpPlgwUTX"
   },
   "outputs": [],
   "source": [
    "d4 = {\"human\":2, \"cat\":4, \"spider\":8}\n",
    "\n",
    "for i,leg in d4.items():\n",
    "  print(str(i) + \" has \" + str(leg) +\" legs.\")"
   ]
  },
  {
   "cell_type": "code",
   "execution_count": null,
   "metadata": {
    "colab": {},
    "colab_type": "code",
    "id": "SZia6YVqwfNU"
   },
   "outputs": [],
   "source": [
    "districts = {\"İstanbul\":[\"Bostancı\", \"Beşiktaş\", \"Kadıköy\"], \n",
    "           \"Ankara\":[\"Çankaya\", \"Gölbaşı\", \"Kızılcahamam\"],\n",
    "           \"İzmir\":[\"Çeşme\",\"Bornova\",\"Foça\"]}"
   ]
  },
  {
   "cell_type": "code",
   "execution_count": null,
   "metadata": {
    "colab": {
     "base_uri": "https://localhost:8080/",
     "height": 35
    },
    "colab_type": "code",
    "id": "4HyiNDwcwfAD",
    "outputId": "a86d855c-34d6-4fc9-8e7e-41e9a86886d5"
   },
   "outputs": [],
   "source": [
    "districts[\"İstanbul\"]"
   ]
  },
  {
   "cell_type": "code",
   "execution_count": null,
   "metadata": {
    "colab": {
     "base_uri": "https://localhost:8080/",
     "height": 35
    },
    "colab_type": "code",
    "id": "CMpXSAUuxmmB",
    "outputId": "38b5e335-106e-42b7-c858-ce434d89d35e"
   },
   "outputs": [],
   "source": [
    "type(districts)"
   ]
  },
  {
   "cell_type": "code",
   "execution_count": null,
   "metadata": {
    "colab": {
     "base_uri": "https://localhost:8080/",
     "height": 35
    },
    "colab_type": "code",
    "id": "yOyreuu_xqgL",
    "outputId": "87123a0c-a302-4bd5-a654-8068fd82540d"
   },
   "outputs": [],
   "source": [
    "type(districts[\"Ankara\"])"
   ]
  },
  {
   "cell_type": "code",
   "execution_count": null,
   "metadata": {
    "colab": {
     "base_uri": "https://localhost:8080/",
     "height": 36
    },
    "colab_type": "code",
    "id": "jTxblvirxu9I",
    "outputId": "d36d9562-0810-4db1-9518-22c5345cae09"
   },
   "outputs": [],
   "source": [
    "districts[\"İzmir\"][0][0]"
   ]
  },
  {
   "cell_type": "code",
   "execution_count": null,
   "metadata": {
    "colab": {
     "base_uri": "https://localhost:8080/",
     "height": 36
    },
    "colab_type": "code",
    "id": "b2gxQlCvyMcq",
    "outputId": "6aaa7b71-8b1c-4ea7-e638-5e4ea791648d"
   },
   "outputs": [],
   "source": [
    "districts[\"İzmir\"][2]"
   ]
  },
  {
   "cell_type": "markdown",
   "metadata": {},
   "source": [
    "### Nested Dictionaries"
   ]
  },
  {
   "cell_type": "code",
   "execution_count": null,
   "metadata": {},
   "outputs": [],
   "source": [
    "employees = {\n",
    "    \"employee1\" : {\n",
    "        \"name\": \"Hannah\",\n",
    "        \"email\": \"hannah@bla.org\"\n",
    "    },\n",
    "    \"employee2\" : {\n",
    "        \"name\": \"Steve\",\n",
    "        \"email\": \"steve@bla.org\"\n",
    "    },\n",
    "    \"employee3\" : {\n",
    "        \"name\": \"Ross\",\n",
    "        \"email\": \"ross@bla.org\"\n",
    "    }\n",
    "}\n",
    "\n",
    "print(employees.get(\"employee3\").get(\"name\"))"
   ]
  },
  {
   "cell_type": "markdown",
   "metadata": {},
   "source": [
    "### Dictionary Comprehension"
   ]
  },
  {
   "cell_type": "code",
   "execution_count": null,
   "metadata": {
    "colab": {
     "base_uri": "https://localhost:8080/",
     "height": 35
    },
    "colab_type": "code",
    "id": "Take2YvbyQSd",
    "outputId": "4a7d1fd9-e522-45a1-bfe0-677d77004955"
   },
   "outputs": [],
   "source": [
    "#creating a dictionary from a list\n",
    "\n",
    "\n",
    "nums = list(range(9)) # [0,1,2,3,4,5,6,7,8]\n",
    "\n",
    "even_sqr = {x: x**2 for x in nums if x % 2 == 0}\n",
    "print(even_sqr)"
   ]
  },
  {
   "cell_type": "code",
   "execution_count": null,
   "metadata": {
    "colab": {
     "base_uri": "https://localhost:8080/",
     "height": 35
    },
    "colab_type": "code",
    "id": "vSdY0CMtTLrH",
    "outputId": "46eabc10-590c-478e-9d08-10b78b3f1a5d"
   },
   "outputs": [],
   "source": [
    "# creating a dictionary in which tuples are keys.\n",
    "\n",
    "a = {(x, x+1): x for x in range(10)}\n",
    "print(a)"
   ]
  },
  {
   "cell_type": "markdown",
   "metadata": {
    "colab_type": "text",
    "id": "Ak4uMk3pzHZI"
   },
   "source": [
    "# Sets\n",
    "\n",
    "\n",
    "* Sets, are unordered and unindexed; items cannot be accessed by indexing.\n",
    "* They cannot contain any duplicates.\n",
    "* We use the set() function to create an empty set."
   ]
  },
  {
   "cell_type": "code",
   "execution_count": null,
   "metadata": {
    "colab": {
     "base_uri": "https://localhost:8080/",
     "height": 35
    },
    "colab_type": "code",
    "id": "QgZuDyx3yvn9",
    "outputId": "5661fe2b-3797-4b21-f74f-a5d733a64ad0"
   },
   "outputs": [],
   "source": [
    "s = {\"python\", 5,6,8,5,6,\"abc\", \"python\",\"python\",\"python\",\"python\",\"python\",\"python\",\"python\",\"python\",\"python\"}\n",
    "s"
   ]
  },
  {
   "cell_type": "code",
   "execution_count": null,
   "metadata": {
    "colab": {
     "base_uri": "https://localhost:8080/",
     "height": 35
    },
    "colab_type": "code",
    "id": "KmzyF9b--0Ci",
    "outputId": "0fd6f24f-f616-40e2-da1e-ea76843cbcd7"
   },
   "outputs": [],
   "source": [
    "empty = set()\n",
    "type(empty)"
   ]
  },
  {
   "cell_type": "code",
   "execution_count": null,
   "metadata": {
    "colab": {
     "base_uri": "https://localhost:8080/",
     "height": 35
    },
    "colab_type": "code",
    "id": "8qLJrT9VAUvf",
    "outputId": "49d3a738-03e5-45f9-a284-eab1cd844848"
   },
   "outputs": [],
   "source": [
    "empty2 = {}\n",
    "type(empty2)"
   ]
  },
  {
   "cell_type": "code",
   "execution_count": null,
   "metadata": {
    "colab": {
     "base_uri": "https://localhost:8080/",
     "height": 35
    },
    "colab_type": "code",
    "id": "cH4PCXOhAZpS",
    "outputId": "4de26760-75fc-49bc-dae2-a1b72febd89d"
   },
   "outputs": [],
   "source": [
    "s2 = set([\"python\", 5,6,8,5,6,\"abc\", \"python\"])\n",
    "print(s2)"
   ]
  },
  {
   "cell_type": "code",
   "execution_count": null,
   "metadata": {
    "colab": {},
    "colab_type": "code",
    "id": "TLu1Ec_bA__q"
   },
   "outputs": [],
   "source": [
    "s2 = set(\"pineapple\")\n",
    "print(s2)"
   ]
  },
  {
   "cell_type": "code",
   "execution_count": null,
   "metadata": {
    "colab": {
     "base_uri": "https://localhost:8080/",
     "height": 186
    },
    "colab_type": "code",
    "id": "JEA3fgi7BXBR",
    "outputId": "ffaeb6f0-240c-4dea-a179-4b98c7051dca"
   },
   "outputs": [],
   "source": [
    "#Why do we get this error?\n",
    "y = {\"a\",\"b\",{'a':[1,2,3]},5,6}\n",
    "print(y) "
   ]
  },
  {
   "cell_type": "code",
   "execution_count": null,
   "metadata": {
    "colab": {
     "base_uri": "https://localhost:8080/",
     "height": 35
    },
    "colab_type": "code",
    "id": "WNZzrXshBy-0",
    "outputId": "7683a43d-ecba-44c9-bb94-c53a70bba02d"
   },
   "outputs": [],
   "source": [
    "s2 = set([\"python\", 5,6,8,5,6,\"abc\", \"python\"])"
   ]
  },
  {
   "cell_type": "code",
   "execution_count": null,
   "metadata": {
    "colab": {
     "base_uri": "https://localhost:8080/",
     "height": 35
    },
    "colab_type": "code",
    "id": "k1IVnwKEB0Wn",
    "outputId": "c7eefb52-3522-4954-f90a-b7cdc30e4ee2"
   },
   "outputs": [],
   "source": [
    "6 in s2"
   ]
  },
  {
   "cell_type": "code",
   "execution_count": null,
   "metadata": {
    "colab": {
     "base_uri": "https://localhost:8080/",
     "height": 35
    },
    "colab_type": "code",
    "id": "GUtmrwfhB2mj",
    "outputId": "d52e785c-6aa7-4397-ed56-a0599cdbe4f5"
   },
   "outputs": [],
   "source": [
    "9 in s2"
   ]
  },
  {
   "cell_type": "code",
   "execution_count": null,
   "metadata": {
    "colab": {
     "base_uri": "https://localhost:8080/",
     "height": 35
    },
    "colab_type": "code",
    "id": "lPvxuypLB4Pg",
    "outputId": "f13d4e43-966b-4b31-8bdc-12093592e187"
   },
   "outputs": [],
   "source": [
    "len(s2)"
   ]
  },
  {
   "cell_type": "code",
   "execution_count": null,
   "metadata": {
    "colab": {
     "base_uri": "https://localhost:8080/",
     "height": 35
    },
    "colab_type": "code",
    "id": "wCijI6-vCEj6",
    "outputId": "b59118c9-6059-4002-d1aa-283b6761f5f4"
   },
   "outputs": [],
   "source": [
    "s2.add(\"ai\")\n",
    "s2"
   ]
  },
  {
   "cell_type": "code",
   "execution_count": null,
   "metadata": {
    "colab": {
     "base_uri": "https://localhost:8080/",
     "height": 52
    },
    "colab_type": "code",
    "id": "tPq001PuCLO3",
    "outputId": "82b1466c-46b1-45f9-adc7-6b87b13c6763"
   },
   "outputs": [],
   "source": [
    "s2.add(\"ai\")\n",
    "print(s2)\n",
    "len(s2)"
   ]
  },
  {
   "cell_type": "code",
   "execution_count": null,
   "metadata": {
    "colab": {
     "base_uri": "https://localhost:8080/",
     "height": 35
    },
    "colab_type": "code",
    "id": "EGZnvf9WCRYk",
    "outputId": "2d503674-8139-4afc-bbbb-da3515931d25"
   },
   "outputs": [],
   "source": [
    "s2.remove(\"ai\")\n",
    "print(s2)"
   ]
  },
  {
   "cell_type": "markdown",
   "metadata": {},
   "source": [
    "### Set Comprehension"
   ]
  },
  {
   "cell_type": "code",
   "execution_count": null,
   "metadata": {
    "colab": {
     "base_uri": "https://localhost:8080/",
     "height": 35
    },
    "colab_type": "code",
    "id": "wtZoskbUDQMN",
    "outputId": "effe7b2c-3db1-4a91-9e5e-99f0789e16cd"
   },
   "outputs": [],
   "source": [
    "print({x for x in list(range(10))})\n",
    "\n",
    "print({x**2 for x in list(range(10))})\n"
   ]
  },
  {
   "cell_type": "markdown",
   "metadata": {},
   "source": [
    "### Question"
   ]
  },
  {
   "cell_type": "code",
   "execution_count": null,
   "metadata": {},
   "outputs": [],
   "source": [
    "vegetables = ['squash', 'pea', 'carrot', 'potato']\n",
    "vegetables.sort()"
   ]
  },
  {
   "cell_type": "code",
   "execution_count": null,
   "metadata": {},
   "outputs": [],
   "source": [
    "vegetables"
   ]
  },
  {
   "cell_type": "code",
   "execution_count": null,
   "metadata": {},
   "outputs": [],
   "source": [
    "vegetables"
   ]
  },
  {
   "cell_type": "code",
   "execution_count": null,
   "metadata": {},
   "outputs": [],
   "source": [
    "fruit = ['watermelon','pineapple', 'apple', 'banana', 'apricot']\n",
    "sorted(fruit)"
   ]
  },
  {
   "cell_type": "code",
   "execution_count": null,
   "metadata": {},
   "outputs": [],
   "source": [
    "fruit"
   ]
  }
 ],
 "metadata": {
  "colab": {
   "collapsed_sections": [],
   "name": "Day_4.ipynb",
   "provenance": []
  },
  "kernelspec": {
   "display_name": "Python 3",
   "language": "python",
   "name": "python3"
  },
  "language_info": {
   "codemirror_mode": {
    "name": "ipython",
    "version": 3
   },
   "file_extension": ".py",
   "mimetype": "text/x-python",
   "name": "python",
   "nbconvert_exporter": "python",
   "pygments_lexer": "ipython3",
   "version": "3.9.1"
  }
 },
 "nbformat": 4,
 "nbformat_minor": 1
}
